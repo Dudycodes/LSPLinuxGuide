{
 "cells": [
  {
   "cell_type": "code",
   "execution_count": 18,
   "id": "286facda-ca63-45b4-b692-7f043538b20b",
   "metadata": {},
   "outputs": [],
   "source": [
    "# update path to file here\n",
    "file_path = '../LSP_LCDVeekMT2_anim/testbenchResults/testbenchLCDanim.txt'"
   ]
  },
  {
   "cell_type": "code",
   "execution_count": 19,
   "id": "c1549872-4db7-4591-bca1-583960c3422b",
   "metadata": {},
   "outputs": [],
   "source": [
    "import numpy as np\n",
    "import matplotlib.pyplot as plt"
   ]
  },
  {
   "cell_type": "code",
   "execution_count": 20,
   "id": "b47c6186-50bf-4297-9156-9e8fa2b59ec6",
   "metadata": {},
   "outputs": [],
   "source": [
    "images = []\n",
    "\n",
    "with open(file_path, 'r') as f:\n",
    "    # each new image/frame starts with ##=0,0\n",
    "    # three state machine \n",
    "    #    state a) line starts with # and thus is a comment or is used for navigation (so ignore this line)\n",
    "    #          b) line starts with *n , where n is an integer -> multiply last result n times (note - should always come after state c) )\n",
    "    #          c) line is a 24bit number\n",
    "    \n",
    "    \n",
    "    current_rgb = np.zeros((1,3),dtype=np.uint8)\n",
    "    \n",
    "    current_image = np.empty((1024*525,3),dtype=np.uint8)\n",
    "    \n",
    "    idx = 0\n",
    "    for line in f:\n",
    "        if line == \"##=0,0\\n\" and idx > 0: #frame separation\n",
    "            images.append(current_image)\n",
    "            current_image = np.empty_like(current_image)\n",
    "            idx = 0\n",
    "            continue\n",
    "            \n",
    "        if line[0] == '#' or line[0] == '\\n':\n",
    "            continue\n",
    "        elif line[0] == '*':\n",
    "            times = int(line[1:])\n",
    "            \n",
    "            for i in range(times):\n",
    "                current_image[idx] = current_rgb\n",
    "                idx+=1\n",
    "            \n",
    "        else:\n",
    "            line_uint = int(line) & 0xffffff\n",
    "            current_rgb[0,0] = (line_uint & 0xff0000) >> 16\n",
    "            current_rgb[0,1] = (line_uint & 0x00ff00) >> 8\n",
    "            current_rgb[0,2] = line_uint & 0x0000ff \n",
    "            \n",
    "            current_image[idx] = current_rgb\n",
    "            idx+=1\n",
    "            "
   ]
  },
  {
   "cell_type": "code",
   "execution_count": 21,
   "id": "b0d2d5ba-d63e-46b1-95a8-e01073198b20",
   "metadata": {},
   "outputs": [
    {
     "data": {
      "text/plain": [
       "<matplotlib.image.AxesImage at 0x7f8d8dddf6d0>"
      ]
     },
     "execution_count": 21,
     "metadata": {},
     "output_type": "execute_result"
    },
    {
     "data": {
      "image/png": "[encoded data removed]",
      "text/plain": [
       "<Figure size 432x288 with 1 Axes>"
      ]
     },
     "metadata": {
      "needs_background": "light"
     },
     "output_type": "display_data"
    }
   ],
   "source": [
    "plt.imshow(images[0].reshape((525,1024,3)))"
   ]
  },
  {
   "cell_type": "code",
   "execution_count": 22,
   "id": "09e99c7e-1198-40cf-864f-ab8366ef8223",
   "metadata": {},
   "outputs": [],
   "source": [
    "#output gif\n",
    "from PIL import Image\n",
    "pill_images = []\n",
    "\n",
    "for im in images:\n",
    "    pill_images.append(Image.fromarray(im.reshape((525,1024,3))))\n",
    "\n",
    "\n",
    "pill_images[0].save(\"out.gif\", save_all=True, append_images=pill_images[1:], duration=100, loop=0)"
   ]
  },
  {
   "cell_type": "code",
   "execution_count": 23,
   "id": "52e7c3b3-9994-4ea7-b18c-d9ea02828685",
   "metadata": {},
   "outputs": [],
   "source": [
    "# see the gif\n",
    "gif = Image.open(\"out.gif\")\n",
    "gif.show()"
   ]
  },
  {
   "cell_type": "code",
   "execution_count": null,
   "id": "300fb0be-20cb-4731-8205-82c3c560f5d7",
   "metadata": {},
   "outputs": [],
   "source": []
  }
 ],
 "metadata": {
  "kernelspec": {
   "display_name": "Python 3 (ipykernel)",
   "language": "python",
   "name": "python3"
  },
  "language_info": {
   "codemirror_mode": {
    "name": "ipython",
    "version": 3
   },
   "file_extension": ".py",
   "mimetype": "text/x-python",
   "name": "python",
   "nbconvert_exporter": "python",
   "pygments_lexer": "ipython3",
   "version": "3.8.10"
  }
 },
 "nbformat": 4,
 "nbformat_minor": 5
}
